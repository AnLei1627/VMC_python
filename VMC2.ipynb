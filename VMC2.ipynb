{
 "cells": [
  {
   "cell_type": "code",
   "execution_count": 41,
   "metadata": {},
   "outputs": [],
   "source": [
    "import numpy as np\n",
    "import sys\n",
    "from tqdm import tqdm\n",
    "\n",
    "nDimensions = 3\n",
    "charge = 2\n",
    "stepLength = 1.5\n",
    "nParticles = 2\n",
    "# step length and square inverse\n",
    "h = 0.001\n",
    "h2 = 1000000\n",
    "alpha = 1\n",
    "nCycles = 1000000\n",
    "thermalization = 1000\n",
    "\n",
    "def local_energy(r):\n",
    "    r_plus = np.zeros((nParticles, nDimensions))\n",
    "    r_minus = np.zeros((nParticles, nDimensions))\n",
    "    r_plus[:] = r\n",
    "    r_minus[:] = r\n",
    "    wave_function_minus = 0\n",
    "    wave_function_plus = 0\n",
    "    wave_function_current = wave_function(r)\n",
    "    \n",
    "    # Kinetic energy, brute force derivations\n",
    "    kinetic_energy = 0\n",
    "    for i in range(nParticles):\n",
    "        for j in range(nDimensions):\n",
    "            r_plus[i,j] += h\n",
    "            r_minus[i,j] -= h\n",
    "            wave_function_minus = wave_function(r_minus)\n",
    "            wave_function_plus = wave_function(r_plus)\n",
    "            kinetic_energy -= (wave_function_minus + wave_function_plus - 2 * wave_function_current)\n",
    "            r_plus[i,j] = r[i,j]\n",
    "            r_minus[i,j] = r[i,j]\n",
    "    kinetic_energy = 0.5 * h2 * kinetic_energy / wave_function_current\n",
    "    \n",
    "    # Potential energy\n",
    "    potential_energy = 0\n",
    "    r_single_particle = 0\n",
    "    for i in range(nParticles):\n",
    "        r_single_particle = 0\n",
    "        for j in range(nDimensions):\n",
    "            r_single_particle += r[i,j] * r[i,j]\n",
    "        potential_energy -= charge / np.sqrt(r_single_particle)\n",
    "    \n",
    "    # Contribution from electron-electron potential\n",
    "    r12 = 0\n",
    "    for i in range(nParticles):\n",
    "        for j in range(i + 1, nParticles):\n",
    "            r12 = 0\n",
    "            for k in range(nDimensions):\n",
    "                r12 += (r[i,k] - r[j,k]) * (r[i,k] - r[j,k])\n",
    "            potential_energy += 1 / np.sqrt(r12)\n",
    "    \n",
    "    return kinetic_energy + potential_energy\n",
    "\n",
    "\n",
    "def wave_function(r):\n",
    "    argument = 0\n",
    "    for i in range(nParticles):\n",
    "        r_single_particle = 0\n",
    "        for j in range(nDimensions):\n",
    "            r_single_particle += r[i,j] * r[i,j]\n",
    "        argument += np.sqrt(r_single_particle)\n",
    "    return np.exp(-argument * alpha)\n",
    "\n",
    "def grad_wave_func(r):\n",
    "    grad_wave_func = np.zeros((nParticles,nDimensions))\n",
    "    wave_func_old = wave_function(r)\n",
    "    for i in range(nParticles):\n",
    "        for j in range(nDimensions):\n",
    "            r_new = r\n",
    "            r_new[i,j] += h\n",
    "            grad_wave_func[i,j] = (wave_function(r_new)-wave_func_old)/h\n",
    "    return grad_wave_func\n",
    "\n",
    "def solve_VMC(rInit):\n",
    "    rOld = np.zeros((nParticles, nDimensions))\n",
    "    rNew = np.zeros((nParticles, nDimensions))\n",
    "    waveFunctionOld = 0\n",
    "    waveFunctionNew = 0\n",
    "    energySum = 0\n",
    "    energySquaredSum = 0\n",
    "    deltaE = 0\n",
    "    prob = 1.\n",
    "    # initial trial positions\n",
    "    rOld = rInit\n",
    "\n",
    "    rNew = rOld\n",
    "    # loop over Monte Carlo cycles\n",
    "    accept = 0\n",
    "    for cycle in tqdm(range(nCycles), file=sys.stdout, desc='VMC Cycles'):\n",
    "        prob = 1.\n",
    "        # Store the current value of the wave function\n",
    "        waveFunctionOld = wave_function(rOld)\n",
    "        #direction = 2 * grad_wave_func(rOld)/waveFunctionOld * np.random.rand()\n",
    "        direction = (np.random.rand(nParticles, nDimensions)-0.5)\n",
    "        # New position to test\n",
    "        for i in range(nParticles):\n",
    "            for j in range(nDimensions):\n",
    "                rNew[i,j] = rOld[i,j] + stepLength * direction[i,j]\n",
    "            # Recalculate the value of the wave function\n",
    "            waveFunctionNew = wave_function(rNew)\n",
    "            # Check for step acceptance (if yes, update position, if no, reset position)\n",
    "            if np.random.rand() <= np.float_power(waveFunctionNew/waveFunctionOld, 2):\n",
    "                for j in range(nDimensions):\n",
    "                    rOld[i,j] = rNew[i,j]\n",
    "                waveFunctionOld = waveFunctionNew\n",
    "                accept += 1\n",
    "            else:\n",
    "                for j in range(nDimensions):\n",
    "                    rNew[i,j] = rOld[i,j]\n",
    "            \n",
    "            ### AVOID division error???????????????????????????????????????????????????????\n",
    "            if wave_function(rOld) <= 1E-100:\n",
    "                tqdm.write(\"triggered\")\n",
    "                rOld = stepLength * (np.random.rand(nParticles, nDimensions) - 0.5)\n",
    "                rNew = rOld + stepLength * (np.random.rand(nParticles, nDimensions) - 0.5)\n",
    "\n",
    "            # update energies\n",
    "            if cycle > thermalization:\n",
    "                deltaE = local_energy(rNew)\n",
    "                energySum += deltaE\n",
    "                energySquaredSum += deltaE*deltaE\n",
    "        if cycle % 20000 == 0: tqdm.write(\"energy:\"+str(round(energySum/((cycle+1) * nParticles)*2*13.6,2))+\" (eV) ; acceptance rate = \"+str(round(accept/(cycle+1)/nParticles * 100,2)))\n",
    "    energy = energySum/(nCycles * nParticles)*2*13.6\n",
    "    energySquared = energySquaredSum/(nCycles * nParticles)\n",
    "    # print(f\"Energy: {energy*2*13.6}(eV), Variance: {energySquared-energy**2}\")\n",
    "    return energy\n"
   ]
  },
  {
   "cell_type": "code",
   "execution_count": 42,
   "metadata": {},
   "outputs": [
    {
     "name": "stdout",
     "output_type": "stream",
     "text": [
      "energy:0.0 (eV) ; acceptance rate = 0.0                \n",
      "energy:-26.45 (eV) ; acceptance rate = 72.85                         \n",
      "triggered                                                            \n",
      "energy:-44.85 (eV) ; acceptance rate = 69.79                         \n",
      "energy:-51.51 (eV) ; acceptance rate = 68.64                         \n",
      "energy:-54.98 (eV) ; acceptance rate = 68.18                         \n",
      "energy:-56.73 (eV) ; acceptance rate = 67.97                         \n",
      "energy:-58.28 (eV) ; acceptance rate = 67.68                          \n",
      "energy:-59.17 (eV) ; acceptance rate = 67.45                          \n",
      "energy:-59.72 (eV) ; acceptance rate = 67.31                          \n",
      "energy:-60.16 (eV) ; acceptance rate = 67.26                          \n",
      "energy:-60.53 (eV) ; acceptance rate = 67.24                          \n",
      "energy:-60.86 (eV) ; acceptance rate = 67.18                          \n",
      "energy:-61.05 (eV) ; acceptance rate = 67.15                          \n",
      "energy:-61.27 (eV) ; acceptance rate = 67.12                          \n",
      "energy:-61.46 (eV) ; acceptance rate = 67.12                          \n",
      "energy:-61.69 (eV) ; acceptance rate = 67.09                          \n",
      "energy:-61.85 (eV) ; acceptance rate = 67.05                          \n",
      "energy:-62.0 (eV) ; acceptance rate = 67.01                           \n",
      "energy:-62.11 (eV) ; acceptance rate = 66.99                          \n",
      "energy:-62.29 (eV) ; acceptance rate = 66.94                          \n",
      "energy:-62.43 (eV) ; acceptance rate = 66.91                          \n",
      "energy:-62.51 (eV) ; acceptance rate = 66.9                           \n",
      "energy:-62.6 (eV) ; acceptance rate = 66.89                           \n",
      "energy:-62.67 (eV) ; acceptance rate = 66.9                           \n",
      "energy:-62.74 (eV) ; acceptance rate = 66.89                          \n",
      "energy:-62.76 (eV) ; acceptance rate = 66.9                           \n",
      "energy:-62.83 (eV) ; acceptance rate = 66.88                          \n",
      "energy:-62.89 (eV) ; acceptance rate = 66.87                          \n",
      "energy:-62.96 (eV) ; acceptance rate = 66.86                          \n",
      "energy:-63.03 (eV) ; acceptance rate = 66.85                          \n",
      "energy:-63.06 (eV) ; acceptance rate = 66.83                          \n",
      "energy:-63.1 (eV) ; acceptance rate = 66.83                           \n",
      "energy:-63.17 (eV) ; acceptance rate = 66.82                          \n",
      "energy:-63.17 (eV) ; acceptance rate = 66.81                          \n",
      "energy:-63.21 (eV) ; acceptance rate = 66.8                           \n",
      "energy:-63.28 (eV) ; acceptance rate = 66.77                          \n",
      "energy:-63.35 (eV) ; acceptance rate = 66.76                          \n",
      "energy:-63.39 (eV) ; acceptance rate = 66.75                          \n",
      "energy:-63.43 (eV) ; acceptance rate = 66.75                          \n",
      "energy:-63.44 (eV) ; acceptance rate = 66.76                          \n",
      "energy:-63.48 (eV) ; acceptance rate = 66.77                          \n",
      "energy:-63.51 (eV) ; acceptance rate = 66.77                          \n",
      "energy:-63.55 (eV) ; acceptance rate = 66.75                          \n",
      "energy:-63.59 (eV) ; acceptance rate = 66.74                          \n",
      "energy:-63.65 (eV) ; acceptance rate = 66.74                          \n",
      "energy:-63.69 (eV) ; acceptance rate = 66.73                          \n",
      "energy:-63.71 (eV) ; acceptance rate = 66.72                          \n",
      "energy:-63.74 (eV) ; acceptance rate = 66.71                          \n",
      "energy:-63.73 (eV) ; acceptance rate = 66.72                          \n",
      "energy:-63.72 (eV) ; acceptance rate = 66.72                          \n",
      "VMC Cycles: 100%|██████████| 1000000/1000000 [02:47<00:00, 5970.03it/s]\n"
     ]
    },
    {
     "data": {
      "text/plain": [
       "-63.71656869108275"
      ]
     },
     "execution_count": 42,
     "metadata": {},
     "output_type": "execute_result"
    }
   ],
   "source": [
    "solve_VMC(stepLength * (np.random.rand(nParticles, nDimensions) - 0.5))"
   ]
  },
  {
   "cell_type": "code",
   "execution_count": 43,
   "metadata": {},
   "outputs": [
    {
     "data": {
      "text/plain": [
       "64.6"
      ]
     },
     "execution_count": 43,
     "metadata": {},
     "output_type": "execute_result"
    }
   ],
   "source": [
    "(-2*alpha**2+4*charge*alpha-5/4*alpha)*13.6"
   ]
  },
  {
   "cell_type": "code",
   "execution_count": 44,
   "metadata": {},
   "outputs": [
    {
     "ename": "NameError",
     "evalue": "name 'rOld' is not defined",
     "output_type": "error",
     "traceback": [
      "\u001b[1;31m---------------------------------------------------------------------------\u001b[0m",
      "\u001b[1;31mNameError\u001b[0m                                 Traceback (most recent call last)",
      "Cell \u001b[1;32mIn[44], line 3\u001b[0m\n\u001b[0;32m      1\u001b[0m \u001b[39mfor\u001b[39;00m i \u001b[39min\u001b[39;00m \u001b[39mrange\u001b[39m(nParticles):\n\u001b[0;32m      2\u001b[0m     \u001b[39mfor\u001b[39;00m j \u001b[39min\u001b[39;00m \u001b[39mrange\u001b[39m(nDimensions):\n\u001b[1;32m----> 3\u001b[0m         rOld[i,j] \u001b[39m=\u001b[39m stepLength \u001b[39m*\u001b[39m (np\u001b[39m.\u001b[39mrandom\u001b[39m.\u001b[39mrand() \u001b[39m-\u001b[39m \u001b[39m0.5\u001b[39m)\n",
      "\u001b[1;31mNameError\u001b[0m: name 'rOld' is not defined"
     ]
    }
   ],
   "source": [
    "for i in range(nParticles):\n",
    "    for j in range(nDimensions):\n",
    "        rOld[i,j] = stepLength * (np.random.rand() - 0.5)"
   ]
  },
  {
   "cell_type": "code",
   "execution_count": null,
   "metadata": {},
   "outputs": [],
   "source": []
  },
  {
   "cell_type": "code",
   "execution_count": null,
   "metadata": {},
   "outputs": [],
   "source": []
  },
  {
   "cell_type": "code",
   "execution_count": null,
   "metadata": {},
   "outputs": [],
   "source": [
    "rOld"
   ]
  },
  {
   "cell_type": "code",
   "execution_count": null,
   "metadata": {},
   "outputs": [],
   "source": []
  }
 ],
 "metadata": {
  "kernelspec": {
   "display_name": "Python 3",
   "language": "python",
   "name": "python3"
  },
  "language_info": {
   "codemirror_mode": {
    "name": "ipython",
    "version": 3
   },
   "file_extension": ".py",
   "mimetype": "text/x-python",
   "name": "python",
   "nbconvert_exporter": "python",
   "pygments_lexer": "ipython3",
   "version": "3.11.0"
  },
  "orig_nbformat": 4
 },
 "nbformat": 4,
 "nbformat_minor": 2
}
