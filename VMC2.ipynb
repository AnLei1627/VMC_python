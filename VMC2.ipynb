{
 "cells": [
  {
   "cell_type": "code",
   "execution_count": 1,
   "metadata": {},
   "outputs": [],
   "source": [
    "import numpy as np\n",
    "import sys\n",
    "from tqdm import tqdm\n",
    "\n",
    "nDimensions = 3\n",
    "charge = 2\n",
    "stepLength = 1.5\n",
    "nParticles = 2\n",
    "# step length and square inverse\n",
    "h = 0.001\n",
    "h2 = 1000000\n",
    "alpha = 1\n",
    "nCycles = 10000\n",
    "thermalization = 1000\n",
    "\n",
    "def local_energy(r, alpha):\n",
    "    r_plus = np.zeros((nParticles, nDimensions))\n",
    "    r_minus = np.zeros((nParticles, nDimensions))\n",
    "    r_plus[:] = r\n",
    "    r_minus[:] = r\n",
    "    wave_function_minus = 0\n",
    "    wave_function_plus = 0\n",
    "    wave_function_current = wave_function(r, alpha)\n",
    "    \n",
    "    # Kinetic energy, brute force derivations\n",
    "    kinetic_energy = 0\n",
    "    for i in range(nParticles):\n",
    "        for j in range(nDimensions):\n",
    "            r_plus[i,j] += h\n",
    "            r_minus[i,j] -= h\n",
    "            wave_function_minus = wave_function(r_minus, alpha)\n",
    "            wave_function_plus = wave_function(r_plus, alpha)\n",
    "            kinetic_energy -= (wave_function_minus + wave_function_plus - 2 * wave_function_current)\n",
    "            r_plus[i,j] = r[i,j]\n",
    "            r_minus[i,j] = r[i,j]\n",
    "    kinetic_energy = 0.5 * h2 * kinetic_energy / wave_function_current\n",
    "    \n",
    "    # Potential energy\n",
    "    potential_energy = 0\n",
    "    r_single_particle = 0\n",
    "    for i in range(nParticles):\n",
    "        r_single_particle = 0\n",
    "        for j in range(nDimensions):\n",
    "            r_single_particle += r[i,j] * r[i,j]\n",
    "        potential_energy -= charge / np.sqrt(r_single_particle)\n",
    "    \n",
    "    # Contribution from electron-electron potential\n",
    "    r12 = 0\n",
    "    for i in range(nParticles):\n",
    "        for j in range(i + 1, nParticles):\n",
    "            r12 = 0\n",
    "            for k in range(nDimensions):\n",
    "                r12 += (r[i,k] - r[j,k]) * (r[i,k] - r[j,k])\n",
    "            potential_energy += 1 / np.sqrt(r12)\n",
    "    \n",
    "    return kinetic_energy + potential_energy\n",
    "\n",
    "def wave_function(r, alpha):\n",
    "    argument = 0\n",
    "    for i in range(nParticles):\n",
    "        r_single_particle = 0\n",
    "        for j in range(nDimensions):\n",
    "            r_single_particle += r[i,j] * r[i,j]\n",
    "        argument += np.sqrt(r_single_particle)\n",
    "    return np.exp(-argument * alpha)\n",
    "\n",
    "def solve_VMC(alpha):\n",
    "    rOld = np.zeros((nParticles, nDimensions))\n",
    "    rNew = np.zeros((nParticles, nDimensions))\n",
    "    waveFunctionOld = 0\n",
    "    waveFunctionNew = 0\n",
    "    energySum = 0\n",
    "    energySquaredSum = 0\n",
    "    deltaE = 0\n",
    "    prob = 1.\n",
    "    # initial trial positions\n",
    "    rOld = stepLength * (np.random.rand(nParticles, nDimensions) - 0.5)\n",
    "\n",
    "    rNew = rOld\n",
    "    # loop over Monte Carlo cycles\n",
    "    accept = 0\n",
    "    for cycle in tqdm(range(nCycles), file=sys.stdout, desc='VMC Cycles'):\n",
    "        waveFunctionOld = wave_function(rOld, alpha)\n",
    "        direction = (np.random.rand(nParticles, nDimensions)-0.5)\n",
    "        for i in range(nParticles):\n",
    "            for j in range(nDimensions):\n",
    "                rNew[i,j] = rOld[i,j] + stepLength * direction[i,j]\n",
    "            # Recalculate the value of the wave function\n",
    "            waveFunctionNew = wave_function(rNew, alpha)\n",
    "            # Check for step acceptance (if yes, update position, if no, reset position)\n",
    "            if np.random.rand() <= np.float_power(waveFunctionNew/waveFunctionOld, 2):\n",
    "                for j in range(nDimensions):\n",
    "                    rOld[i,j] = rNew[i,j]\n",
    "                waveFunctionOld = waveFunctionNew\n",
    "                accept += 1\n",
    "            else:\n",
    "                for j in range(nDimensions):\n",
    "                    rNew[i,j] = rOld[i,j]\n",
    "            \n",
    "            ### AVOID division error???????????????????????????????????????????????????????\n",
    "            if wave_function(rOld, alpha) <= 1E-100:\n",
    "                tqdm.write(\"triggered\")\n",
    "                rOld = stepLength * (np.random.rand(nParticles, nDimensions) - 0.5)\n",
    "                rNew = rOld + stepLength * (np.random.rand(nParticles, nDimensions) - 0.5)\n",
    "\n",
    "            # update energies\n",
    "            if cycle > thermalization:\n",
    "                deltaE = local_energy(rNew, alpha)\n",
    "                energySum += deltaE\n",
    "                energySquaredSum += deltaE*deltaE\n",
    "        if cycle % 20000 == 0: tqdm.write(\"energy:\"+str(round(energySum/((cycle+1) * nParticles)*2*13.6,2))+\" (eV) ; acceptance rate = \"+str(round(accept/(cycle+1)/nParticles * 100,2))+\"; alpha: \"+str(alpha))\n",
    "    energy = energySum/(nCycles * nParticles)*2*13.6\n",
    "    energySquared = energySquaredSum/(nCycles * nParticles)\n",
    "    # print(f\"Energy: {energy*2*13.6}(eV), Variance: {energySquared-energy**2}\")\n",
    "    return energy\n"
   ]
  },
  {
   "cell_type": "code",
   "execution_count": 2,
   "metadata": {},
   "outputs": [
    {
     "name": "stdout",
     "output_type": "stream",
     "text": [
      "energy:0.0 (eV) ; acceptance rate = 50.0; alpha: 1.5 \n",
      "VMC Cycles: 100%|██████████| 10000/10000 [00:01<00:00, 6224.31it/s]\n",
      "energy:0.0 (eV) ; acceptance rate = 50.0; alpha: 1.6 \n",
      "triggered                                                          \n",
      "VMC Cycles: 100%|██████████| 10000/10000 [00:01<00:00, 6544.97it/s]\n",
      "energy:0.0 (eV) ; acceptance rate = 0.0; alpha: 1.7  \n",
      "VMC Cycles: 100%|██████████| 10000/10000 [00:01<00:00, 6508.77it/s]\n",
      "energy:0.0 (eV) ; acceptance rate = 50.0; alpha: 1.75\n",
      "triggered                                                          \n",
      "VMC Cycles: 100%|██████████| 10000/10000 [00:01<00:00, 6526.14it/s]\n",
      "energy:0.0 (eV) ; acceptance rate = 50.0; alpha: 1.8 \n",
      "triggered                                                          \n",
      "VMC Cycles: 100%|██████████| 10000/10000 [00:01<00:00, 6538.00it/s]\n",
      "energy:0.0 (eV) ; acceptance rate = 0.0; alpha: 1.9  \n",
      "triggered                                                          \n",
      "VMC Cycles: 100%|██████████| 10000/10000 [00:01<00:00, 6623.43it/s]\n"
     ]
    }
   ],
   "source": [
    "from multiprocessing import Pool\n",
    "\n",
    "pool = Pool()\n",
    "\n",
    "alphas = [1.5,1.6,1.7,1.75,1.8,1.9]\n",
    "\n",
    "energies = list(map(solve_VMC, alphas))"
   ]
  },
  {
   "cell_type": "code",
   "execution_count": 3,
   "metadata": {},
   "outputs": [
    {
     "data": {
      "text/plain": [
       "[-55.053157586315194,\n",
       " -64.05964847216886,\n",
       " -70.49267379421121,\n",
       " -72.75643697863408,\n",
       " -74.70834348714828,\n",
       " -83.62435767365646]"
      ]
     },
     "execution_count": 3,
     "metadata": {},
     "output_type": "execute_result"
    }
   ],
   "source": [
    "energies"
   ]
  },
  {
   "cell_type": "code",
   "execution_count": 4,
   "metadata": {},
   "outputs": [
    {
     "data": {
      "text/plain": [
       "[76.5, 77.24799999999999, 77.452, 77.35, 77.112, 76.228]"
      ]
     },
     "execution_count": 4,
     "metadata": {},
     "output_type": "execute_result"
    }
   ],
   "source": [
    "[(-2*alpha**2+4*charge*alpha-5/4*alpha)*13.6 for alpha in alphas]\n"
   ]
  },
  {
   "cell_type": "code",
   "execution_count": null,
   "metadata": {},
   "outputs": [],
   "source": []
  },
  {
   "cell_type": "code",
   "execution_count": null,
   "metadata": {},
   "outputs": [],
   "source": []
  },
  {
   "cell_type": "code",
   "execution_count": null,
   "metadata": {},
   "outputs": [],
   "source": []
  },
  {
   "cell_type": "code",
   "execution_count": 5,
   "metadata": {},
   "outputs": [
    {
     "ename": "NameError",
     "evalue": "name 'rOld' is not defined",
     "output_type": "error",
     "traceback": [
      "\u001b[1;31m---------------------------------------------------------------------------\u001b[0m",
      "\u001b[1;31mNameError\u001b[0m                                 Traceback (most recent call last)",
      "Cell \u001b[1;32mIn[5], line 1\u001b[0m\n\u001b[1;32m----> 1\u001b[0m rOld\n",
      "\u001b[1;31mNameError\u001b[0m: name 'rOld' is not defined"
     ]
    }
   ],
   "source": [
    "rOld"
   ]
  },
  {
   "cell_type": "code",
   "execution_count": null,
   "metadata": {},
   "outputs": [],
   "source": []
  }
 ],
 "metadata": {
  "kernelspec": {
   "display_name": "Python 3",
   "language": "python",
   "name": "python3"
  },
  "language_info": {
   "codemirror_mode": {
    "name": "ipython",
    "version": 3
   },
   "file_extension": ".py",
   "mimetype": "text/x-python",
   "name": "python",
   "nbconvert_exporter": "python",
   "pygments_lexer": "ipython3",
   "version": "3.11.0"
  },
  "orig_nbformat": 4
 },
 "nbformat": 4,
 "nbformat_minor": 2
}
