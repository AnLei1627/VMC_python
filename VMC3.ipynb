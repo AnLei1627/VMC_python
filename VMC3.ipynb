{
 "cells": [
  {
   "cell_type": "code",
   "execution_count": 21,
   "metadata": {},
   "outputs": [],
   "source": [
    "import numpy as np\n",
    "import sys\n",
    "from tqdm import tqdm\n",
    "\n",
    "nDimensions = 3\n",
    "charge = 1\n",
    "stepLength = 1.5\n",
    "nParticles = 2\n",
    "# step length and square inverse\n",
    "h = 0.001\n",
    "h2 = 1000000\n",
    "\n",
    "nCycles = 1000000\n",
    "thermalization = 1000\n",
    "\n",
    "def local_energy(r, par):\n",
    "    r_plus = np.zeros((nParticles, nDimensions))\n",
    "    r_minus = np.zeros((nParticles, nDimensions))\n",
    "    r_plus[:] = r\n",
    "    r_minus[:] = r\n",
    "    wave_function_minus = 0\n",
    "    wave_function_plus = 0\n",
    "    wave_function_current = wave_function(r, par)\n",
    "    \n",
    "    # Kinetic energy, brute force derivations\n",
    "    kinetic_energy = 0\n",
    "    for i in range(nParticles):\n",
    "        for j in range(nDimensions):\n",
    "            r_plus[i,j] += h\n",
    "            r_minus[i,j] -= h\n",
    "            wave_function_minus = wave_function(r_minus, par)\n",
    "            wave_function_plus = wave_function(r_plus, par)\n",
    "            kinetic_energy -= (wave_function_minus + wave_function_plus - 2 * wave_function_current)\n",
    "            r_plus[i,j] = r[i,j]\n",
    "            r_minus[i,j] = r[i,j]\n",
    "    kinetic_energy = 0.5 * h2 * kinetic_energy / wave_function_current\n",
    "    \n",
    "    # Potential energy\n",
    "    potential_energy = 0\n",
    "    r_single_particle = 0\n",
    "    for i in range(nParticles):\n",
    "        r_single_particle = 0\n",
    "        for j in range(nDimensions):\n",
    "            r_single_particle += r[i,j] * r[i,j]\n",
    "        potential_energy -= charge / np.sqrt(r_single_particle)\n",
    "    \n",
    "    # Contribution from electron-electron potential\n",
    "    r12 = 0\n",
    "    for i in range(nParticles):\n",
    "        for j in range(i + 1, nParticles):\n",
    "            r12 = 0\n",
    "            for k in range(nDimensions):\n",
    "                r12 += (r[i,k] - r[j,k]) * (r[i,k] - r[j,k])\n",
    "            potential_energy += 1 / np.sqrt(r12)\n",
    "    \n",
    "    return kinetic_energy + potential_energy\n",
    "\n",
    "# def wave_function(r, alpha):\n",
    "#     argument = 0\n",
    "#     for i in range(nParticles):\n",
    "#         r_single_particle = 0\n",
    "#         for j in range(nDimensions):\n",
    "#             r_single_particle += r[i,j] * r[i,j]\n",
    "#         argument += np.sqrt(r_single_particle)\n",
    "#     return np.exp(-argument * alpha)\n",
    "\n",
    "def wave_function(r, par):\n",
    "    a, b = par\n",
    "    r1 = 0.\n",
    "    r2 = 0.\n",
    "    r12 = 0.\n",
    "    for k in range(nDimensions):\n",
    "        r1  += r[0,k]**2\n",
    "        r2  += r[1,k]**2\n",
    "        r12 += (r[0,k] - r[1,k])**2\n",
    "    r1  = np.sqrt(r1)\n",
    "    r2  = np.sqrt(r2)\n",
    "    r12 = np.sqrt(r12)\n",
    "    return (np.exp(-a*r1-b*r2) + np.exp(-b*r1-a*r2))\n",
    "\n",
    "def solve_VMC(par):\n",
    "    rOld = np.zeros((nParticles, nDimensions))\n",
    "    rNew = np.zeros((nParticles, nDimensions))\n",
    "    waveFunctionOld = 0\n",
    "    waveFunctionNew = 0\n",
    "    energySum = 0\n",
    "    energySquaredSum = 0\n",
    "    deltaE = 0\n",
    "    prob = 1.\n",
    "    # initial trial positions\n",
    "    rOld = stepLength * (np.random.rand(nParticles, nDimensions) - 0.5)\n",
    "\n",
    "    rNew = rOld\n",
    "    # loop over Monte Carlo cycles\n",
    "    accept = 0\n",
    "    for cycle in tqdm(range(nCycles), file=sys.stdout, desc='VMC Cycles'):\n",
    "        waveFunctionOld = wave_function(rOld, par)\n",
    "        direction = (np.random.rand(nParticles, nDimensions)-0.5)\n",
    "        for i in range(nParticles):\n",
    "            for j in range(nDimensions):\n",
    "                rNew[i,j] = rOld[i,j] + stepLength * direction[i,j]\n",
    "            # Recalculate the value of the wave function\n",
    "            waveFunctionNew = wave_function(rNew, par)\n",
    "            # Check for step acceptance (if yes, update position, if no, reset position)\n",
    "            if np.random.rand() <= np.float_power(waveFunctionNew/waveFunctionOld, 2):\n",
    "                for j in range(nDimensions):\n",
    "                    rOld[i,j] = rNew[i,j]\n",
    "                waveFunctionOld = waveFunctionNew\n",
    "                accept += 1\n",
    "            else:\n",
    "                for j in range(nDimensions):\n",
    "                    rNew[i,j] = rOld[i,j]\n",
    "            \n",
    "            ### AVOID division error???????????????????????????????????????????????????????\n",
    "            if wave_function(rOld, par) <= 1E-100:\n",
    "                tqdm.write(\"triggered\")\n",
    "                rOld = stepLength * (np.random.rand(nParticles, nDimensions) - 0.5)\n",
    "                rNew = rOld + stepLength * (np.random.rand(nParticles, nDimensions) - 0.5)\n",
    "\n",
    "            # update energies\n",
    "            if cycle > thermalization:\n",
    "                deltaE = local_energy(rNew, par)\n",
    "                energySum += deltaE\n",
    "                energySquaredSum += deltaE*deltaE\n",
    "        if cycle % 20000 == 0: tqdm.write(\"energy:\"+str(round(energySum/((cycle+1) * nParticles)*2*13.6,2))+\" (eV) ; acceptance rate = \"+str(round(accept/(cycle+1)/nParticles * 100,2))+\"; alpha: \"+str(alpha))\n",
    "    energy = energySum/(nCycles * nParticles)*2*13.6\n",
    "    energySquared = energySquaredSum/(nCycles * nParticles)\n",
    "    # print(f\"Energy: {energy*2*13.6}(eV), Variance: {energySquared-energy**2}\")\n",
    "    return energy\n"
   ]
  },
  {
   "cell_type": "code",
   "execution_count": 22,
   "metadata": {},
   "outputs": [
    {
     "name": "stdout",
     "output_type": "stream",
     "text": [
      "energy:0.0 (eV) ; acceptance rate = 100.0; alpha: 1    \n",
      "energy:-14.86 (eV) ; acceptance rate = 80.2; alpha: 1                \n",
      "triggered                                                            \n",
      "energy:-15.31 (eV) ; acceptance rate = 79.25; alpha: 1               \n",
      "energy:-14.88 (eV) ; acceptance rate = 78.81; alpha: 1               \n",
      "energy:-14.65 (eV) ; acceptance rate = 78.45; alpha: 1               \n",
      "energy:-14.49 (eV) ; acceptance rate = 78.33; alpha: 1               \n",
      "energy:-14.39 (eV) ; acceptance rate = 78.17; alpha: 1                \n",
      "energy:-14.32 (eV) ; acceptance rate = 78.08; alpha: 1                \n",
      "energy:-14.28 (eV) ; acceptance rate = 78.03; alpha: 1                \n",
      "energy:-14.23 (eV) ; acceptance rate = 77.95; alpha: 1                \n",
      "energy:-14.18 (eV) ; acceptance rate = 77.86; alpha: 1                \n",
      "VMC Cycles:  22%|██▏       | 218792/1000000 [00:31<01:53, 6879.18it/s]\n"
     ]
    },
    {
     "ename": "KeyboardInterrupt",
     "evalue": "",
     "output_type": "error",
     "traceback": [
      "\u001b[0;31m---------------------------------------------------------------------------\u001b[0m",
      "\u001b[0;31mKeyboardInterrupt\u001b[0m                         Traceback (most recent call last)",
      "Cell \u001b[0;32mIn[22], line 7\u001b[0m\n\u001b[1;32m      3\u001b[0m pool \u001b[39m=\u001b[39m Pool()\n\u001b[1;32m      5\u001b[0m alphas \u001b[39m=\u001b[39m [(\u001b[39m1.03922\u001b[39m, \u001b[39m0.28322\u001b[39m)]\n\u001b[0;32m----> 7\u001b[0m energies \u001b[39m=\u001b[39m \u001b[39mlist\u001b[39;49m(\u001b[39mmap\u001b[39;49m(solve_VMC, alphas))\n",
      "Cell \u001b[0;32mIn[21], line 122\u001b[0m, in \u001b[0;36msolve_VMC\u001b[0;34m(par)\u001b[0m\n\u001b[1;32m    120\u001b[0m \u001b[39m# update energies\u001b[39;00m\n\u001b[1;32m    121\u001b[0m \u001b[39mif\u001b[39;00m cycle \u001b[39m>\u001b[39m thermalization:\n\u001b[0;32m--> 122\u001b[0m     deltaE \u001b[39m=\u001b[39m local_energy(rNew, par)\n\u001b[1;32m    123\u001b[0m     energySum \u001b[39m+\u001b[39m\u001b[39m=\u001b[39m deltaE\n\u001b[1;32m    124\u001b[0m     energySquaredSum \u001b[39m+\u001b[39m\u001b[39m=\u001b[39m deltaE\u001b[39m*\u001b[39mdeltaE\n",
      "Cell \u001b[0;32mIn[21], line 44\u001b[0m, in \u001b[0;36mlocal_energy\u001b[0;34m(r, par)\u001b[0m\n\u001b[1;32m     42\u001b[0m     r_single_particle \u001b[39m=\u001b[39m \u001b[39m0\u001b[39m\n\u001b[1;32m     43\u001b[0m     \u001b[39mfor\u001b[39;00m j \u001b[39min\u001b[39;00m \u001b[39mrange\u001b[39m(nDimensions):\n\u001b[0;32m---> 44\u001b[0m         r_single_particle \u001b[39m+\u001b[39m\u001b[39m=\u001b[39m r[i,j] \u001b[39m*\u001b[39m r[i,j]\n\u001b[1;32m     45\u001b[0m     potential_energy \u001b[39m-\u001b[39m\u001b[39m=\u001b[39m charge \u001b[39m/\u001b[39m np\u001b[39m.\u001b[39msqrt(r_single_particle)\n\u001b[1;32m     47\u001b[0m \u001b[39m# Contribution from electron-electron potential\u001b[39;00m\n",
      "\u001b[0;31mKeyboardInterrupt\u001b[0m: "
     ]
    }
   ],
   "source": [
    "from multiprocessing import Pool\n",
    "\n",
    "pool = Pool()\n",
    "\n",
    "alphas = [(1.03922, 0.28322)]\n",
    "\n",
    "energies = list(map(solve_VMC, alphas))"
   ]
  },
  {
   "cell_type": "code",
   "execution_count": null,
   "metadata": {},
   "outputs": [
    {
     "data": {
      "text/plain": [
       "[-13.574631930610744]"
      ]
     },
     "execution_count": 19,
     "metadata": {},
     "output_type": "execute_result"
    }
   ],
   "source": [
    "energies"
   ]
  },
  {
   "cell_type": "code",
   "execution_count": null,
   "metadata": {},
   "outputs": [
    {
     "ename": "TypeError",
     "evalue": "unsupported operand type(s) for ** or pow(): 'tuple' and 'int'",
     "output_type": "error",
     "traceback": [
      "\u001b[0;31m---------------------------------------------------------------------------\u001b[0m",
      "\u001b[0;31mTypeError\u001b[0m                                 Traceback (most recent call last)",
      "Cell \u001b[0;32mIn[20], line 1\u001b[0m\n\u001b[0;32m----> 1\u001b[0m [(\u001b[39m-\u001b[39;49m\u001b[39m2\u001b[39;49m\u001b[39m*\u001b[39;49malpha\u001b[39m*\u001b[39;49m\u001b[39m*\u001b[39;49m\u001b[39m2\u001b[39;49m\u001b[39m+\u001b[39;49m\u001b[39m4\u001b[39;49m\u001b[39m*\u001b[39;49mcharge\u001b[39m*\u001b[39;49malpha\u001b[39m-\u001b[39;49m\u001b[39m5\u001b[39;49m\u001b[39m/\u001b[39;49m\u001b[39m4\u001b[39;49m\u001b[39m*\u001b[39;49malpha)\u001b[39m*\u001b[39;49m\u001b[39m13.6\u001b[39;49m \u001b[39mfor\u001b[39;49;00m alpha \u001b[39min\u001b[39;49;00m alphas]\n",
      "Cell \u001b[0;32mIn[20], line 1\u001b[0m, in \u001b[0;36m<listcomp>\u001b[0;34m(.0)\u001b[0m\n\u001b[0;32m----> 1\u001b[0m [(\u001b[39m-\u001b[39m\u001b[39m2\u001b[39m\u001b[39m*\u001b[39malpha\u001b[39m*\u001b[39;49m\u001b[39m*\u001b[39;49m\u001b[39m2\u001b[39;49m\u001b[39m+\u001b[39m\u001b[39m4\u001b[39m\u001b[39m*\u001b[39mcharge\u001b[39m*\u001b[39malpha\u001b[39m-\u001b[39m\u001b[39m5\u001b[39m\u001b[39m/\u001b[39m\u001b[39m4\u001b[39m\u001b[39m*\u001b[39malpha)\u001b[39m*\u001b[39m\u001b[39m13.6\u001b[39m \u001b[39mfor\u001b[39;00m alpha \u001b[39min\u001b[39;00m alphas]\n",
      "\u001b[0;31mTypeError\u001b[0m: unsupported operand type(s) for ** or pow(): 'tuple' and 'int'"
     ]
    }
   ],
   "source": [
    "[(-2*alpha**2+4*charge*alpha-5/4*alpha)*13.6 for alpha in alphas]\n"
   ]
  },
  {
   "cell_type": "code",
   "execution_count": null,
   "metadata": {},
   "outputs": [
    {
     "ename": "ModuleNotFoundError",
     "evalue": "No module named 'tqdm'",
     "output_type": "error",
     "traceback": [
      "\u001b[0;31m---------------------------------------------------------------------------\u001b[0m",
      "\u001b[0;31mModuleNotFoundError\u001b[0m                       Traceback (most recent call last)",
      "\u001b[0;32m/var/folders/74/cszmvy4n761d8d2zvdgh5gbw0000gn/T/ipykernel_2697/3961474492.py\u001b[0m in \u001b[0;36m<module>\u001b[0;34m\u001b[0m\n\u001b[0;32m----> 1\u001b[0;31m \u001b[0;32mimport\u001b[0m \u001b[0mtqdm\u001b[0m\u001b[0;34m\u001b[0m\u001b[0;34m\u001b[0m\u001b[0m\n\u001b[0m",
      "\u001b[0;31mModuleNotFoundError\u001b[0m: No module named 'tqdm'"
     ]
    }
   ],
   "source": []
  },
  {
   "cell_type": "code",
   "execution_count": null,
   "metadata": {},
   "outputs": [],
   "source": []
  },
  {
   "cell_type": "code",
   "execution_count": null,
   "metadata": {},
   "outputs": [],
   "source": []
  },
  {
   "cell_type": "code",
   "execution_count": null,
   "metadata": {},
   "outputs": [
    {
     "ename": "NameError",
     "evalue": "name 'rOld' is not defined",
     "output_type": "error",
     "traceback": [
      "\u001b[1;31m---------------------------------------------------------------------------\u001b[0m",
      "\u001b[1;31mNameError\u001b[0m                                 Traceback (most recent call last)",
      "Cell \u001b[1;32mIn[5], line 1\u001b[0m\n\u001b[1;32m----> 1\u001b[0m rOld\n",
      "\u001b[1;31mNameError\u001b[0m: name 'rOld' is not defined"
     ]
    }
   ],
   "source": []
  },
  {
   "cell_type": "code",
   "execution_count": null,
   "metadata": {},
   "outputs": [],
   "source": [
    "import numba\n"
   ]
  }
 ],
 "metadata": {
  "kernelspec": {
   "display_name": "Python 3",
   "language": "python",
   "name": "python3"
  },
  "language_info": {
   "codemirror_mode": {
    "name": "ipython",
    "version": 3
   },
   "file_extension": ".py",
   "mimetype": "text/x-python",
   "name": "python",
   "nbconvert_exporter": "python",
   "pygments_lexer": "ipython3",
   "version": "3.11.3"
  },
  "orig_nbformat": 4
 },
 "nbformat": 4,
 "nbformat_minor": 2
}
