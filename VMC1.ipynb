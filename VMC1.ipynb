{
 "cells": [
  {
   "cell_type": "code",
   "execution_count": 1,
   "metadata": {},
   "outputs": [
    {
     "data": {
      "text/latex": [
       "$\\displaystyle \\left(Z \\sqrt{x^{2} + y^{2} + z^{2}} - 2\\right) e^{- \\frac{Z \\sqrt{x^{2} + y^{2} + z^{2}}}{2}}$"
      ],
      "text/plain": [
       "(Z*sqrt(x**2 + y**2 + z**2) - 2)*exp(-Z*sqrt(x**2 + y**2 + z**2)/2)"
      ]
     },
     "execution_count": 1,
     "metadata": {},
     "output_type": "execute_result"
    }
   ],
   "source": [
    "# http://compphysics.github.io/ComputationalPhysics/doc/pub/vmc/html/vmc.html\n",
    "\n",
    "from sympy import symbols, diff, exp, sqrt\n",
    "x, y, z, Z = symbols('x y z Z')\n",
    "r = sqrt(x*x + y*y + z*z)\n",
    "r\n",
    "phi = (Z*r - 2)*exp(-Z*r/2)\n",
    "phi\n"
   ]
  },
  {
   "cell_type": "code",
   "execution_count": 2,
   "metadata": {},
   "outputs": [
    {
     "data": {
      "text/latex": [
       "$\\displaystyle - \\frac{Z x \\left(Z \\sqrt{x^{2} + y^{2} + z^{2}} - 2\\right) e^{- \\frac{Z \\sqrt{x^{2} + y^{2} + z^{2}}}{2}}}{2 \\sqrt{x^{2} + y^{2} + z^{2}}} + \\frac{Z x e^{- \\frac{Z \\sqrt{x^{2} + y^{2} + z^{2}}}{2}}}{\\sqrt{x^{2} + y^{2} + z^{2}}}$"
      ],
      "text/plain": [
       "-Z*x*(Z*sqrt(x**2 + y**2 + z**2) - 2)*exp(-Z*sqrt(x**2 + y**2 + z**2)/2)/(2*sqrt(x**2 + y**2 + z**2)) + Z*x*exp(-Z*sqrt(x**2 + y**2 + z**2)/2)/sqrt(x**2 + y**2 + z**2)"
      ]
     },
     "execution_count": 2,
     "metadata": {},
     "output_type": "execute_result"
    }
   ],
   "source": [
    "diff(phi, x)"
   ]
  },
  {
   "cell_type": "code",
   "execution_count": 3,
   "metadata": {},
   "outputs": [
    {
     "data": {
      "text/latex": [
       "$\\displaystyle - \\frac{Z x \\left(Z r - 4\\right) e^{- \\frac{Z r}{2}}}{2 r}$"
      ],
      "text/plain": [
       "-Z*x*(Z*r - 4)*exp(-Z*r/2)/(2*r)"
      ]
     },
     "execution_count": 3,
     "metadata": {},
     "output_type": "execute_result"
    }
   ],
   "source": [
    "from sympy import symbols, diff, exp, sqrt, factor, Symbol, printing\n",
    "x, y, z, Z = symbols('x y z Z')\n",
    "r = sqrt(x*x + y*y + z*z)\n",
    "phi = (Z*r - 2)*exp(-Z*r/2)\n",
    "R = Symbol('r') #Creates a symbolic equivalent of r\n",
    "#print latex and c++ code\n",
    "diff(phi, x).factor().subs(r, R)"
   ]
  },
  {
   "cell_type": "code",
   "execution_count": 4,
   "metadata": {},
   "outputs": [
    {
     "data": {
      "text/latex": [
       "$\\displaystyle \\frac{Z \\left(Z r - 8\\right) \\left(Z r - 2\\right) e^{- \\frac{Z r}{2}}}{4 r}$"
      ],
      "text/plain": [
       "Z*(Z*r - 8)*(Z*r - 2)*exp(-Z*r/2)/(4*r)"
      ]
     },
     "execution_count": 4,
     "metadata": {},
     "output_type": "execute_result"
    }
   ],
   "source": [
    "from sympy import symbols, diff, exp, sqrt, factor, Symbol, printing\n",
    "x, y, z, Z = symbols('x y z Z')\n",
    "r = sqrt(x*x + y*y + z*z)\n",
    "phi = (Z*r - 2)*exp(-Z*r/2)\n",
    "R = Symbol('r') #Creates a symbolic equivalent of r\n",
    "(diff(diff(phi, x), x) + diff(diff(phi, y), y) + diff(diff(phi, z), z)).factor().subs(r, R)\n",
    "# Collect the Z values\n",
    "(diff(diff(phi, x), x) + diff(diff(phi, y), y) +diff(diff(phi, z), z)).factor().collect(Z).subs(r, R)\n",
    "# Factorize also the r**2 terms\n",
    "(diff(diff(phi, x), x) + diff(diff(phi, y), y) + diff(diff(phi, z), z)).factor().collect(Z).subs(r, R).subs(r**2, R**2).factor()"
   ]
  },
  {
   "cell_type": "code",
   "execution_count": 5,
   "metadata": {},
   "outputs": [],
   "source": [
    "nDimensions = 3\n",
    "charge = 2\n",
    "stepLength = 1.0\n",
    "nParticles = 2\n",
    "# step length and square inverse\n",
    "h = 0.001\n",
    "h2 = 1000000\n",
    "alpha = 1.75\n",
    "nCycles = 1000000\n",
    "\n"
   ]
  },
  {
   "cell_type": "code",
   "execution_count": 6,
   "metadata": {},
   "outputs": [
    {
     "name": "stderr",
     "output_type": "stream",
     "text": [
      "100%|██████████| 1000000/1000000 [01:20<00:00, 12426.63it/s]\n"
     ]
    }
   ],
   "source": [
    "import numpy as np\n",
    "from tqdm import tqdm\n",
    "\n",
    "\n",
    "\n",
    "def wave_func(r): \n",
    "    # exp(-alpha(r1+r2))\n",
    "    argument = 0.\n",
    "    for i in range(nParticles):\n",
    "        r_single_particle = 0.\n",
    "        for j in range(nDimensions):\n",
    "            r_single_particle += r[i, j]**2\n",
    "        argument += np.sqrt(r_single_particle)\n",
    "    \n",
    "    return np.exp(-argument * alpha)\n",
    "\n",
    "def local_energy(r):\n",
    "    wave_func_current = wave_func(r)\n",
    "    r_plus = np.copy(r)\n",
    "    r_minus = np.copy(r)\n",
    "    \n",
    "    # Kinetic Energy (Central diff.?)\n",
    "    T = 0.\n",
    "    for i in range(nParticles):\n",
    "        for j in range(nDimensions):\n",
    "            r_plus[i,j]  += h\n",
    "            r_minus[i,j] += h\n",
    "            wave_func_plus  = wave_func(r_plus)\n",
    "            wave_func_minus = wave_func(r_minus)\n",
    "            T -= (wave_func_minus + wave_func_plus - 2 * wave_func_current)\n",
    "            r_plus[i,j] = r[i,j]\n",
    "            r_minus[i,j] = r[i,j]\n",
    "    \n",
    "    T *= 0.5 * h2 / wave_func_current\n",
    "    \n",
    "    # Potential Energy\n",
    "    U = 0.\n",
    "    for i in range(nParticles):\n",
    "        r_single_particle = 0.\n",
    "        for j in range(nDimensions):\n",
    "            r_single_particle += r[i,j]**2\n",
    "        U -= charge / np.sqrt(r_single_particle)\n",
    "\n",
    "    # Potentaial Energy due to r12\n",
    "    V = 0.\n",
    "    for i in range(nParticles):\n",
    "        for j in range(i+1, nParticles):\n",
    "            r12 = 0.\n",
    "            for k in range(nDimensions):\n",
    "                r12 += (r[i,k] - r[j,k])**2\n",
    "            V += 1 / np.sqrt(r12)\n",
    "    \n",
    "    return T + U + V\n",
    "\n",
    "\n",
    "# def runMonteCarloIntegration():\n",
    "r_old = np.zeros((nParticles, nDimensions))\n",
    "r_new = np.zeros((nParticles, nDimensions))\n",
    "energy = 0.\n",
    "all_energy = []\n",
    "\n",
    "for i in range(nParticles):\n",
    "    for j in range(nDimensions):\n",
    "        r_old[i,j] = stepLength * (np.random.rand() - 0.5)\n",
    "\n",
    "r_new = np.copy(r_old)\n",
    "\n",
    "accept = 0\n",
    "\n",
    "for cycle in tqdm(range(nCycles)):\n",
    "\n",
    "    wave_func_old = wave_func(r_old)\n",
    "\n",
    "    for i in range(nParticles):\n",
    "        for j in range(nDimensions):\n",
    "            r_new[i,j] = r_old[i,j] + stepLength * (np.random.rand() - 0.5)\n",
    "        \n",
    "        wave_func_new = wave_func(r_new)\n",
    "\n",
    "        # Metropolis algorithm\n",
    "        ran = np.random.rand()\n",
    "        if ran <= (wave_func_new**2)/(wave_func_old**2):\n",
    "            for i in range(nParticles):\n",
    "                for j in range(nDimensions):\n",
    "                    r_old[i,j] = r_new[i,j]\n",
    "            wave_func_old = wave_func_new\n",
    "            accept += 1\n",
    "        else:\n",
    "            for j in range(nDimensions):\n",
    "                r_new[i,j] = r_old[i,j]\n",
    "    \n",
    "        # Update energies(?)\n",
    "        deltaE = local_energy(r_new)/(nCycles * nParticles)\n",
    "        energy += deltaE\n",
    "        all_energy.append(energy)"
   ]
  },
  {
   "cell_type": "code",
   "execution_count": 7,
   "metadata": {},
   "outputs": [
    {
     "data": {
      "text/plain": [
       "-17201.560248519403"
      ]
     },
     "execution_count": 7,
     "metadata": {},
     "output_type": "execute_result"
    }
   ],
   "source": [
    "energy*2*13.6"
   ]
  },
  {
   "cell_type": "code",
   "execution_count": 8,
   "metadata": {},
   "outputs": [
    {
     "data": {
      "text/plain": [
       "-632.4103032543899"
      ]
     },
     "execution_count": 8,
     "metadata": {},
     "output_type": "execute_result"
    }
   ],
   "source": [
    "energy"
   ]
  },
  {
   "cell_type": "code",
   "execution_count": null,
   "metadata": {},
   "outputs": [],
   "source": []
  },
  {
   "cell_type": "code",
   "execution_count": null,
   "metadata": {},
   "outputs": [],
   "source": []
  },
  {
   "cell_type": "code",
   "execution_count": null,
   "metadata": {},
   "outputs": [],
   "source": []
  }
 ],
 "metadata": {
  "kernelspec": {
   "display_name": "Python 3",
   "language": "python",
   "name": "python3"
  },
  "language_info": {
   "codemirror_mode": {
    "name": "ipython",
    "version": 3
   },
   "file_extension": ".py",
   "mimetype": "text/x-python",
   "name": "python",
   "nbconvert_exporter": "python",
   "pygments_lexer": "ipython3",
   "version": "3.11.0"
  },
  "orig_nbformat": 4
 },
 "nbformat": 4,
 "nbformat_minor": 2
}
